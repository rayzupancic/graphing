{
 "cells": [
  {
   "cell_type": "code",
   "execution_count": 29,
   "id": "4c59e305",
   "metadata": {},
   "outputs": [],
   "source": [
    "import pandas as pd\n",
    "import numpy as np\n",
    "import matplotlib.pyplot as plt\n",
    "\n",
    "#kaggle data from WHO - Life Expectancy (WHO) Fixed\n",
    "#download from: https://www.kaggle.com/datasets/lashagoch/life-expectancy-who-updated\n",
    "le_df = pd.read_csv(\"Life-Expectancy-Data-Updated.csv\")\n",
    "#found an extra space\n",
    "le_df = le_df.rename(columns={\"Life expectancy \":\"Life expectancy\"})\n",
    "#only need two columns and want to sample from developed nations\n",
    "le_df = le_df.loc[(le_df.Year==2015) &( le_df.Region.str.contains(\"European Union\"))][[\"Life_expectancy\",\"GDP_per_capita\",\"Year\",\"Country\",\"Region\"]]\n",
    "le_df.set_index(\"Region\", inplace=True)"
   ]
  },
  {
   "cell_type": "code",
   "execution_count": 34,
   "id": "1b98a04e",
   "metadata": {},
   "outputs": [
    {
     "data": {
      "text/plain": [
       "'<table border=\"1\" class=\"dataframe\">  <thead>    <tr style=\"text-align: right;\">      <th></th>      <th>Life_expectancy</th>      <th>GDP_per_capita</th>      <th>Year</th>      <th>Country</th>    </tr>    <tr>      <th>Region</th>      <th></th>      <th></th>      <th></th>      <th></th>    </tr>  </thead>  <tbody>    <tr>      <th>European Union</th>      <td>82.8</td>      <td>25742</td>      <td>2015</td>      <td>Spain</td>    </tr>    <tr>      <th>European Union</th>      <td>74.5</td>      <td>13786</td>      <td>2015</td>      <td>Latvia</td>    </tr>    <tr>      <th>European Union</th>      <td>82.2</td>      <td>51545</td>      <td>2015</td>      <td>Sweden</td>    </tr>    <tr>      <th>European Union</th>      <td>78.6</td>      <td>17830</td>      <td>2015</td>      <td>Czechia</td>    </tr>    <tr>      <th>European Union</th>      <td>74.3</td>      <td>14264</td>      <td>2015</td>      <td>Lithuania</td>    </tr>    <tr>      <th>European Union</th>      <td>81.5</td>      <td>45193</td>      <td>2015</td>      <td>Netherlands</td>    </tr>    <tr>      <th>European Union</th>      <td>74.6</td>      <td>7075</td>      <td>2015</td>      <td>Bulgaria</td>    </tr>    <tr>      <th>European Union</th>      <td>81.1</td>      <td>19250</td>      <td>2015</td>      <td>Portugal</td>    </tr>    <tr>      <th>European Union</th>      <td>81.5</td>      <td>42802</td>      <td>2015</td>      <td>Finland</td>    </tr>    <tr>      <th>European Union</th>      <td>80.8</td>      <td>20890</td>      <td>2015</td>      <td>Slovenia</td>    </tr>    <tr>      <th>European Union</th>      <td>81.0</td>      <td>41008</td>      <td>2015</td>      <td>Belgium</td>    </tr>    <tr>      <th>European Union</th>      <td>76.6</td>      <td>16342</td>      <td>2015</td>      <td>Slovak Republic</td>    </tr>    <tr>      <th>European Union</th>      <td>81.2</td>      <td>44196</td>      <td>2015</td>      <td>Austria</td>    </tr>    <tr>      <th>European Union</th>      <td>81.9</td>      <td>24922</td>      <td>2015</td>      <td>Malta</td>    </tr>    <tr>      <th>European Union</th>      <td>81.0</td>      <td>18084</td>      <td>2015</td>      <td>Greece</td>    </tr>    <tr>      <th>European Union</th>      <td>81.5</td>      <td>62012</td>      <td>2015</td>      <td>Ireland</td>    </tr>    <tr>      <th>European Union</th>      <td>77.3</td>      <td>11933</td>      <td>2015</td>      <td>Croatia</td>    </tr>    <tr>      <th>European Union</th>      <td>80.6</td>      <td>41103</td>      <td>2015</td>      <td>Germany</td>    </tr>    <tr>      <th>European Union</th>      <td>80.7</td>      <td>53255</td>      <td>2015</td>      <td>Denmark</td>    </tr>    <tr>      <th>European Union</th>      <td>77.5</td>      <td>12578</td>      <td>2015</td>      <td>Poland</td>    </tr>    <tr>      <th>European Union</th>      <td>82.5</td>      <td>30242</td>      <td>2015</td>      <td>Italy</td>    </tr>    <tr>      <th>European Union</th>      <td>75.6</td>      <td>12721</td>      <td>2015</td>      <td>Hungary</td>    </tr>    <tr>      <th>European Union</th>      <td>82.3</td>      <td>105462</td>      <td>2015</td>      <td>Luxembourg</td>    </tr>    <tr>      <th>European Union</th>      <td>80.4</td>      <td>23408</td>      <td>2015</td>      <td>Cyprus</td>    </tr>    <tr>      <th>European Union</th>      <td>77.6</td>      <td>17402</td>      <td>2015</td>      <td>Estonia</td>    </tr>    <tr>      <th>European Union</th>      <td>74.9</td>      <td>8969</td>      <td>2015</td>      <td>Romania</td>    </tr>    <tr>      <th>European Union</th>      <td>82.3</td>      <td>36653</td>      <td>2015</td>      <td>France</td>    </tr>  </tbody></table>'"
      ]
     },
     "execution_count": 34,
     "metadata": {},
     "output_type": "execute_result"
    }
   ],
   "source": [
    "ht"
   ]
  },
  {
   "cell_type": "code",
   "execution_count": 16,
   "id": "2e0273ae",
   "metadata": {},
   "outputs": [
    {
     "data": {
      "text/plain": [
       "Africa                           816\n",
       "European Union                   432\n",
       "Asia                             432\n",
       "Central America and Caribbean    304\n",
       "Rest of Europe                   240\n",
       "Middle East                      224\n",
       "South America                    192\n",
       "Oceania                          176\n",
       "North America                     48\n",
       "Name: Region, dtype: int64"
      ]
     },
     "execution_count": 16,
     "metadata": {},
     "output_type": "execute_result"
    }
   ],
   "source": [
    "le_df.Region.value_counts()\n"
   ]
  },
  {
   "cell_type": "code",
   "execution_count": 20,
   "id": "6e61c004",
   "metadata": {},
   "outputs": [],
   "source": [
    "#use numpy arrays\n",
    "X = le2_df['GDP_per_capita'].to_numpy()\n",
    "y = le2_df['Life_expectancy'].to_numpy()"
   ]
  },
  {
   "cell_type": "code",
   "execution_count": 21,
   "id": "00f794d0",
   "metadata": {},
   "outputs": [
    {
     "data": {
      "text/plain": [
       "(27,)"
      ]
     },
     "execution_count": 21,
     "metadata": {},
     "output_type": "execute_result"
    }
   ],
   "source": [
    "X.shape"
   ]
  },
  {
   "cell_type": "code",
   "execution_count": 35,
   "id": "9b5ebcec",
   "metadata": {},
   "outputs": [],
   "source": [
    "\n",
    "from sklearn.preprocessing import MinMaxScaler\n",
    "\n",
    "minmax = MinMaxScaler()\n",
    "\n",
    "X_scaled = minmax.fit_transform(X.reshape(-1,1))\n",
    "\n",
    "X_a =np.c_[np.ones(len(X_scaled)),X_scaled]\n",
    "y_a = y.reshape(-1,1)"
   ]
  },
  {
   "cell_type": "code",
   "execution_count": 36,
   "id": "8269db93",
   "metadata": {},
   "outputs": [
    {
     "name": "stdout",
     "output_type": "stream",
     "text": [
      "[[76.49430575]\n",
      " [12.57278347]]\n"
     ]
    }
   ],
   "source": [
    "# Implementation of Batch GD \n",
    "\n",
    "eta = 0.01  # learning rate\n",
    "n_epochs = 1000\n",
    "N = len(X)  # number of instances\n",
    "\n",
    "np.random.seed(3)\n",
    "theta = np.random.randn(2, 1)  # randomly initialized model parameters\n",
    "\n",
    "for epoch in range(n_epochs):\n",
    "    gradients = 2 / N * X_a.T @ (X_a @ theta - y_a)\n",
    "    theta = theta - eta * gradients\n",
    "    \n",
    "print(theta)"
   ]
  },
  {
   "cell_type": "code",
   "execution_count": 39,
   "id": "79be175c",
   "metadata": {},
   "outputs": [
    {
     "data": {
      "image/png": "[encoded data removed]",
      "text/plain": [
       "<Figure size 432x288 with 1 Axes>"
      ]
     },
     "metadata": {
      "needs_background": "light"
     },
     "output_type": "display_data"
    }
   ],
   "source": [
    "plt.scatter(X,y)\n",
    "plt.title(\"Life Expectancy versus GDP per-capita\")\n",
    "plt.xlabel(\"GDP per-capita\")\n",
    "plt.ylabel(\"Life Expectancy\")\n",
    "plt.grid()\n",
    "plt.savefig(\"le-scatter.png\")"
   ]
  },
  {
   "cell_type": "code",
   "execution_count": null,
   "id": "df91426e",
   "metadata": {},
   "outputs": [],
   "source": []
  },
  {
   "cell_type": "code",
   "execution_count": null,
   "id": "2f679cf5",
   "metadata": {},
   "outputs": [],
   "source": []
  }
 ],
 "metadata": {
  "kernelspec": {
   "display_name": "Python 3 (ipykernel)",
   "language": "python",
   "name": "python3"
  },
  "language_info": {
   "codemirror_mode": {
    "name": "ipython",
    "version": 3
   },
   "file_extension": ".py",
   "mimetype": "text/x-python",
   "name": "python",
   "nbconvert_exporter": "python",
   "pygments_lexer": "ipython3",
   "version": "3.9.7"
  }
 },
 "nbformat": 4,
 "nbformat_minor": 5
}
